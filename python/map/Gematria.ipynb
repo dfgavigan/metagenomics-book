{
 "cells": [
  {
   "cell_type": "markdown",
   "metadata": {},
   "source": [
    "\"Gematria\" is a system for assigning a number to a word by summing the numeric values of each of the letters as defined by the Mispar godol (https://en.wikipedia.org/wiki/Gematria). For English characters, we can use the ASCII table (https://en.wikipedia.org/wiki/ASCII). It is not necessary, however, to encode this table in our program as Python provides the `ord` function to convert a character to its \"ordinal\" (order in the ASCII table) value as well as the `chr` function to convert a number to its \"character.\""
   ]
  },
  {
   "cell_type": "code",
   "execution_count": 176,
   "metadata": {},
   "outputs": [
    {
     "name": "stdout",
     "output_type": "stream",
     "text": [
      "\"A\" = \"65\"\n",
      "\"a\" = \"97\"\n",
      "\"88\" = \"X\"\n",
      "\"112\" = \"p\"\n"
     ]
    }
   ],
   "source": [
    "print('\"{}\" = \"{}\"'.format('A', ord('A')))\n",
    "print('\"{}\" = \"{}\"'.format('a', ord('a')))\n",
    "print('\"{}\" = \"{}\"'.format(88, chr(88)))\n",
    "print('\"{}\" = \"{}\"'.format(112, chr(112)))"
   ]
  },
  {
   "cell_type": "markdown",
   "metadata": {},
   "source": [
    "To implement an ASCII version of gematria in Python, we need to turn each letter into a number and add them all together.  So, to start, note that Python can use a `for` loop to cycle through all the members of a list (in order):"
   ]
  },
  {
   "cell_type": "code",
   "execution_count": 177,
   "metadata": {},
   "outputs": [
    {
     "name": "stdout",
     "output_type": "stream",
     "text": [
      "0\n",
      "1\n",
      "2\n",
      "3\n",
      "4\n"
     ]
    }
   ],
   "source": [
    "for n in range(5):\n",
    "    print(n)"
   ]
  },
  {
   "cell_type": "code",
   "execution_count": 178,
   "metadata": {},
   "outputs": [
    {
     "name": "stdout",
     "output_type": "stream",
     "text": [
      "p\n",
      "y\n",
      "t\n",
      "h\n",
      "o\n",
      "n\n"
     ]
    }
   ],
   "source": [
    "for char in ['p', 'y', 't', 'h', 'o', 'n']:\n",
    "    print(char)"
   ]
  },
  {
   "cell_type": "markdown",
   "metadata": {},
   "source": [
    "A \"word\" is simply a list of characters, so we can iterate over it just like a list of numbers:"
   ]
  },
  {
   "cell_type": "code",
   "execution_count": 179,
   "metadata": {},
   "outputs": [
    {
     "name": "stdout",
     "output_type": "stream",
     "text": [
      "p\n",
      "y\n",
      "t\n",
      "h\n",
      "o\n",
      "n\n"
     ]
    }
   ],
   "source": [
    "for char in \"python\":\n",
    "    print(char)"
   ]
  },
  {
   "cell_type": "markdown",
   "metadata": {},
   "source": [
    "Let's print the ordinal (ASCII) value instead:"
   ]
  },
  {
   "cell_type": "code",
   "execution_count": 180,
   "metadata": {},
   "outputs": [
    {
     "name": "stdout",
     "output_type": "stream",
     "text": [
      "\"p\" = \"112\"\n",
      "\"y\" = \"121\"\n",
      "\"t\" = \"116\"\n",
      "\"h\" = \"104\"\n",
      "\"o\" = \"111\"\n",
      "\"n\" = \"110\"\n"
     ]
    }
   ],
   "source": [
    "for char in \"python\":\n",
    "    print('\"{}\" = \"{}\"'.format(char, ord(char)))"
   ]
  },
  {
   "cell_type": "markdown",
   "metadata": {},
   "source": [
    "Now let's create a variable to hold the running sum of the values:"
   ]
  },
  {
   "cell_type": "code",
   "execution_count": 181,
   "metadata": {},
   "outputs": [
    {
     "name": "stdout",
     "output_type": "stream",
     "text": [
      "\"python\" = \"674\"\n"
     ]
    }
   ],
   "source": [
    "word = \"python\"\n",
    "total = 0\n",
    "for char in word: \n",
    "    total += ord(char)\n",
    "\n",
    "print('\"{}\" = \"{}\"'.format(word, total))"
   ]
  },
  {
   "cell_type": "markdown",
   "metadata": {},
   "source": [
    "Another way could be to create another list to hold the values and then use the `sum` function:"
   ]
  },
  {
   "cell_type": "code",
   "execution_count": 182,
   "metadata": {},
   "outputs": [
    {
     "name": "stdout",
     "output_type": "stream",
     "text": [
      "[112, 121, 116, 104, 111, 110]\n",
      "\"python\" = \"674\"\n"
     ]
    }
   ],
   "source": [
    "word = \"python\"\n",
    "all = []\n",
    "for char in word: \n",
    "    all.append(ord(char))\n",
    "\n",
    "print(all)\n",
    "print('\"{}\" = \"{}\"'.format(word, sum(all)))"
   ]
  },
  {
   "cell_type": "markdown",
   "metadata": {},
   "source": [
    "We can use a `map` function to transform all the characters via the `ord` function. This is interesting because `map` is a function that takes another function as its first argument. The second is a list of items to feed into the function. The result is the transformed list. For instance, we can use the `str.upper` function to turn each letter (e.g., \"p\") into the upper-case version (\"P\"). NB: it's necessary to force the results into a `list`."
   ]
  },
  {
   "cell_type": "code",
   "execution_count": 183,
   "metadata": {},
   "outputs": [
    {
     "data": {
      "text/plain": [
       "['P', 'Y', 'T', 'H', 'O', 'N']"
      ]
     },
     "execution_count": 183,
     "metadata": {},
     "output_type": "execute_result"
    }
   ],
   "source": [
    "list(map(str.upper, \"python\"))"
   ]
  },
  {
   "cell_type": "code",
   "execution_count": 184,
   "metadata": {},
   "outputs": [
    {
     "data": {
      "text/plain": [
       "[112, 121, 116, 104, 111, 110]"
      ]
     },
     "execution_count": 184,
     "metadata": {},
     "output_type": "execute_result"
    }
   ],
   "source": [
    "list(map(ord, \"python\"))"
   ]
  },
  {
   "cell_type": "markdown",
   "metadata": {},
   "source": [
    "Now we can `sum` those numbers:"
   ]
  },
  {
   "cell_type": "code",
   "execution_count": 185,
   "metadata": {},
   "outputs": [
    {
     "data": {
      "text/plain": [
       "674"
      ]
     },
     "execution_count": 185,
     "metadata": {},
     "output_type": "execute_result"
    }
   ],
   "source": [
    "sum(map(ord, \"python\"))"
   ]
  },
  {
   "cell_type": "markdown",
   "metadata": {},
   "source": [
    "Now let's think about how we could apply this to all the words in a file. As above, we can use a `for` loop to iterate over all the lines in a file:"
   ]
  },
  {
   "cell_type": "code",
   "execution_count": 186,
   "metadata": {},
   "outputs": [
    {
     "name": "stdout",
     "output_type": "stream",
     "text": [
      "Four score and seven years ago our fathers brought forth on this\n",
      "\n",
      "continent, a new nation, conceived in Liberty, and dedicated to the\n",
      "\n",
      "proposition that all men are created equal.\n",
      "\n"
     ]
    }
   ],
   "source": [
    "for line in open('gettysburg.txt'):\n",
    "    print(line)"
   ]
  },
  {
   "cell_type": "markdown",
   "metadata": {},
   "source": [
    "The original is single-spaced, so why is this printing double-spaced? The `for` loop reads each \"line\" which is a string of text up to and including a newline (\"\\n\"). The `print` by default adds a newline, so we either need to `print(line, end='')` to indicate we don't want anything at the end:"
   ]
  },
  {
   "cell_type": "code",
   "execution_count": 187,
   "metadata": {},
   "outputs": [
    {
     "name": "stdout",
     "output_type": "stream",
     "text": [
      "Four score and seven years ago our fathers brought forth on this\n",
      "continent, a new nation, conceived in Liberty, and dedicated to the\n",
      "proposition that all men are created equal.\n"
     ]
    }
   ],
   "source": [
    "for line in open('gettysburg.txt'):\n",
    "    print(line, end='')"
   ]
  },
  {
   "cell_type": "markdown",
   "metadata": {},
   "source": [
    "Or we need to use the `rstrip` function to \"strip\" whitespace off the \"r\"ight side of the line:"
   ]
  },
  {
   "cell_type": "code",
   "execution_count": 188,
   "metadata": {},
   "outputs": [
    {
     "name": "stdout",
     "output_type": "stream",
     "text": [
      "Four score and seven years ago our fathers brought forth on this\n",
      "continent, a new nation, conceived in Liberty, and dedicated to the\n",
      "proposition that all men are created equal.\n"
     ]
    }
   ],
   "source": [
    "for line in open('gettysburg.txt'):\n",
    "    print(line.rstrip())"
   ]
  },
  {
   "cell_type": "markdown",
   "metadata": {},
   "source": [
    "We can use the `split` function to get all the words for each line and a `for` loop to iterate over those:"
   ]
  },
  {
   "cell_type": "code",
   "execution_count": 189,
   "metadata": {},
   "outputs": [
    {
     "name": "stdout",
     "output_type": "stream",
     "text": [
      "Four\n",
      "score\n",
      "and\n",
      "seven\n",
      "years\n",
      "ago\n",
      "our\n",
      "fathers\n",
      "brought\n",
      "forth\n",
      "on\n",
      "this\n",
      "continent,\n",
      "a\n",
      "new\n",
      "nation,\n",
      "conceived\n",
      "in\n",
      "Liberty,\n",
      "and\n",
      "dedicated\n",
      "to\n",
      "the\n",
      "proposition\n",
      "that\n",
      "all\n",
      "men\n",
      "are\n",
      "created\n",
      "equal.\n"
     ]
    }
   ],
   "source": [
    "for line in open('gettysburg.txt'):\n",
    "    for word in line.rstrip().split():\n",
    "        print(word)"
   ]
  },
  {
   "cell_type": "markdown",
   "metadata": {},
   "source": [
    "We want to get rid of anything that is not character like the punctuation. There is a function in the `str` library called `isalpha` that returns `True` or `False`:"
   ]
  },
  {
   "cell_type": "code",
   "execution_count": 190,
   "metadata": {},
   "outputs": [
    {
     "name": "stdout",
     "output_type": "stream",
     "text": [
      "\"a\" = \"True\"\n",
      "\"8\" = \"False\"\n",
      "\",\" = \"False\"\n",
      "\"X\" = \"True\"\n",
      "\".\" = \"False\"\n",
      "\"b\" = \"True\"\n",
      "\"!\" = \"False\"\n",
      "\"G\" = \"True\"\n"
     ]
    }
   ],
   "source": [
    "for x in \"a8,X.b!G\":\n",
    "    print('\"{}\" = \"{}\"'.format(x, str.isalpha(x)))"
   ]
  },
  {
   "cell_type": "markdown",
   "metadata": {},
   "source": [
    "Each `x` in the loop is itself a string, so we can call the method directly on the variable:"
   ]
  },
  {
   "cell_type": "code",
   "execution_count": 191,
   "metadata": {},
   "outputs": [
    {
     "name": "stdout",
     "output_type": "stream",
     "text": [
      "\"a\" = \"True\"\n",
      "\"8\" = \"False\"\n",
      "\",\" = \"False\"\n",
      "\"X\" = \"True\"\n",
      "\".\" = \"False\"\n",
      "\"b\" = \"True\"\n",
      "\"!\" = \"False\"\n",
      "\"G\" = \"True\"\n"
     ]
    }
   ],
   "source": [
    "for x in \"a8,X.b!G\":\n",
    "    print('\"{}\" = \"{}\"'.format(x, x.isalpha()))"
   ]
  },
  {
   "cell_type": "markdown",
   "metadata": {},
   "source": [
    "Similar to what we saw above with the `map` function, we can use `filter` to find all the characters in a string which are `True` for `isalpha`. `filter` is another \"higher-order function\" that takes another function for its first argument (called the \"predicate\") and a list as the second argument. Whereas `map` returns *all* the elements of the list transformed by the function, `filter` returns *only those for which the predicate is true*."
   ]
  },
  {
   "cell_type": "code",
   "execution_count": 192,
   "metadata": {},
   "outputs": [
    {
     "data": {
      "text/plain": [
       "['a', 'X', 'b', 'G']"
      ]
     },
     "execution_count": 192,
     "metadata": {},
     "output_type": "execute_result"
    }
   ],
   "source": [
    "list(filter(str.isalpha, \"a8,X.b!G\"))"
   ]
  },
  {
   "cell_type": "markdown",
   "metadata": {},
   "source": [
    "The first argument for `map` and `filter` is called the \"lambda,\" and sometimes you will see it written out explicitly like so:"
   ]
  },
  {
   "cell_type": "code",
   "execution_count": 193,
   "metadata": {},
   "outputs": [
    {
     "data": {
      "text/plain": [
       "['a', 'X', 'b', 'G']"
      ]
     },
     "execution_count": 193,
     "metadata": {},
     "output_type": "execute_result"
    }
   ],
   "source": [
    "list(filter(lambda char: char.isalpha(), \"a8,X.b!G\"))"
   ]
  },
  {
   "cell_type": "markdown",
   "metadata": {},
   "source": [
    "Here is a way to find only even numbers:"
   ]
  },
  {
   "cell_type": "code",
   "execution_count": 194,
   "metadata": {
    "scrolled": true
   },
   "outputs": [
    {
     "data": {
      "text/plain": [
       "[0, 2, 4, 6, 8]"
      ]
     },
     "execution_count": 194,
     "metadata": {},
     "output_type": "execute_result"
    }
   ],
   "source": [
    "list(filter(lambda x: x % 2 == 0, range(10)))"
   ]
  },
  {
   "cell_type": "markdown",
   "metadata": {},
   "source": [
    "Let's turn that list of characters back into a word with the `join` function:"
   ]
  },
  {
   "cell_type": "code",
   "execution_count": 195,
   "metadata": {},
   "outputs": [
    {
     "data": {
      "text/plain": [
       "'aXbG'"
      ]
     },
     "execution_count": 195,
     "metadata": {},
     "output_type": "execute_result"
    }
   ],
   "source": [
    "''.join(filter(str.isalpha, \"a8,X.b!G\"))"
   ]
  },
  {
   "cell_type": "markdown",
   "metadata": {},
   "source": [
    "So, going back to our Gettysburg example, here is a list of all the words without punctuation:"
   ]
  },
  {
   "cell_type": "code",
   "execution_count": 196,
   "metadata": {},
   "outputs": [
    {
     "name": "stdout",
     "output_type": "stream",
     "text": [
      "Four\n",
      "score\n",
      "and\n",
      "seven\n",
      "years\n",
      "ago\n",
      "our\n",
      "fathers\n",
      "brought\n",
      "forth\n",
      "on\n",
      "this\n",
      "continent\n",
      "a\n",
      "new\n",
      "nation\n",
      "conceived\n",
      "in\n",
      "Liberty\n",
      "and\n",
      "dedicated\n",
      "to\n",
      "the\n",
      "proposition\n",
      "that\n",
      "all\n",
      "men\n",
      "are\n",
      "created\n",
      "equal\n"
     ]
    }
   ],
   "source": [
    "for line in open('gettysburg.txt'):\n",
    "    for word in line.rstrip().split():\n",
    "        print(''.join(filter(str.isalpha, word)))"
   ]
  },
  {
   "cell_type": "markdown",
   "metadata": {},
   "source": [
    "Now, rather let's print the `sum` of the `chr` values for each cleaned up word:"
   ]
  },
  {
   "cell_type": "code",
   "execution_count": 197,
   "metadata": {},
   "outputs": [
    {
     "name": "stdout",
     "output_type": "stream",
     "text": [
      "\"Four\" = \"412\"\n",
      "\"score\" = \"540\"\n",
      "\"and\" = \"307\"\n",
      "\"seven\" = \"545\"\n",
      "\"years\" = \"548\"\n",
      "\"ago\" = \"311\"\n",
      "\"our\" = \"342\"\n",
      "\"fathers\" = \"749\"\n",
      "\"brought\" = \"763\"\n",
      "\"forth\" = \"547\"\n",
      "\"on\" = \"221\"\n",
      "\"this\" = \"440\"\n",
      "\"continent\" = \"978\"\n",
      "\"a\" = \"97\"\n",
      "\"new\" = \"330\"\n",
      "\"nation\" = \"649\"\n",
      "\"conceived\" = \"944\"\n",
      "\"in\" = \"215\"\n",
      "\"Liberty\" = \"731\"\n",
      "\"and\" = \"307\"\n",
      "\"dedicated\" = \"919\"\n",
      "\"to\" = \"227\"\n",
      "\"the\" = \"321\"\n",
      "\"proposition\" = \"1222\"\n",
      "\"that\" = \"433\"\n",
      "\"all\" = \"313\"\n",
      "\"men\" = \"320\"\n",
      "\"are\" = \"312\"\n",
      "\"created\" = \"728\"\n",
      "\"equal\" = \"536\"\n"
     ]
    }
   ],
   "source": [
    "for line in open('gettysburg.txt'):\n",
    "    for word in line.rstrip().split():\n",
    "        clean = ''.join(filter(str.isalpha, word))\n",
    "        print('\"{}\" = \"{}\"'.format(clean, sum(map(ord, clean))))"
   ]
  },
  {
   "cell_type": "markdown",
   "metadata": {},
   "source": [
    "Notice that we are calling `rstrip` for every line, so we could easily move that into a `map`, and the \"cleaning\" code can likewise be moved into a `map`:"
   ]
  },
  {
   "cell_type": "code",
   "execution_count": 198,
   "metadata": {},
   "outputs": [
    {
     "name": "stdout",
     "output_type": "stream",
     "text": [
      "\"Four\" = \"412\"\n",
      "\"score\" = \"540\"\n",
      "\"and\" = \"307\"\n",
      "\"seven\" = \"545\"\n",
      "\"years\" = \"548\"\n",
      "\"ago\" = \"311\"\n",
      "\"our\" = \"342\"\n",
      "\"fathers\" = \"749\"\n",
      "\"brought\" = \"763\"\n",
      "\"forth\" = \"547\"\n",
      "\"on\" = \"221\"\n",
      "\"this\" = \"440\"\n",
      "\"continent\" = \"978\"\n",
      "\"a\" = \"97\"\n",
      "\"new\" = \"330\"\n",
      "\"nation\" = \"649\"\n",
      "\"conceived\" = \"944\"\n",
      "\"in\" = \"215\"\n",
      "\"Liberty\" = \"731\"\n",
      "\"and\" = \"307\"\n",
      "\"dedicated\" = \"919\"\n",
      "\"to\" = \"227\"\n",
      "\"the\" = \"321\"\n",
      "\"proposition\" = \"1222\"\n",
      "\"that\" = \"433\"\n",
      "\"all\" = \"313\"\n",
      "\"men\" = \"320\"\n",
      "\"are\" = \"312\"\n",
      "\"created\" = \"728\"\n",
      "\"equal\" = \"536\"\n"
     ]
    }
   ],
   "source": [
    "for line in map(str.rstrip, open('gettysburg.txt')):\n",
    "    for word in map(lambda w: ''.join(filter(str.isalpha, w)), line.split()):\n",
    "        print('\"{}\" = \"{}\"'.format(word, sum(map(ord, word))))"
   ]
  },
  {
   "cell_type": "markdown",
   "metadata": {},
   "source": [
    "At this point, we have arguably sacrificed readability for the sake of using `map` and `filter` -- another instance of \"just because you can doesn't mean you should\"! \n",
    "\n",
    "We can improve readability, however, by creating our own functions with informative names:"
   ]
  },
  {
   "cell_type": "code",
   "execution_count": 199,
   "metadata": {},
   "outputs": [
    {
     "name": "stdout",
     "output_type": "stream",
     "text": [
      "\"Four\" = \"412\"\n",
      "\"score\" = \"540\"\n",
      "\"and\" = \"307\"\n",
      "\"seven\" = \"545\"\n",
      "\"years\" = \"548\"\n",
      "\"ago\" = \"311\"\n",
      "\"our\" = \"342\"\n",
      "\"fathers\" = \"749\"\n",
      "\"brought\" = \"763\"\n",
      "\"forth\" = \"547\"\n",
      "\"on\" = \"221\"\n",
      "\"this\" = \"440\"\n",
      "\"continent\" = \"978\"\n",
      "\"a\" = \"97\"\n",
      "\"new\" = \"330\"\n",
      "\"nation\" = \"649\"\n",
      "\"conceived\" = \"944\"\n",
      "\"in\" = \"215\"\n",
      "\"Liberty\" = \"731\"\n",
      "\"and\" = \"307\"\n",
      "\"dedicated\" = \"919\"\n",
      "\"to\" = \"227\"\n",
      "\"the\" = \"321\"\n",
      "\"proposition\" = \"1222\"\n",
      "\"that\" = \"433\"\n",
      "\"all\" = \"313\"\n",
      "\"men\" = \"320\"\n",
      "\"are\" = \"312\"\n",
      "\"created\" = \"728\"\n",
      "\"equal\" = \"536\"\n"
     ]
    }
   ],
   "source": [
    "def onlychars(word):\n",
    "    return ''.join(filter(str.isalpha, word))\n",
    "\n",
    "def word2num(word):\n",
    "    return sum(map(ord, word))\n",
    "\n",
    "for line in map(str.rstrip, open('gettysburg.txt')):\n",
    "    for word in map(onlychars, line.split()):\n",
    "        print('\"{}\" = \"{}\"'.format(word, word2num(word)))"
   ]
  },
  {
   "cell_type": "markdown",
   "metadata": {},
   "source": [
    "With this, I hope you're now understand what is meant by a \"higher-order function\" (functions that take other functions as arguments) and how they can streamline your code.\n",
    "\n",
    "Exercise: read your local dictionary (e.g., \"/usr/share/dict/words\") and find how many words share the same numeric representation."
   ]
  },
  {
   "cell_type": "code",
   "execution_count": 200,
   "metadata": {},
   "outputs": [
    {
     "name": "stdout",
     "output_type": "stream",
     "text": [
      "\"973\" = Actaeaceae, activator, actorship, aculeolus, admixtion, admonitor, advertent, aeropathy, aggressor, agitatrix, agriology, allowedly, allozooid, aloeswood, alstonine, altometer, aluminose, ambitious, ampullula, amyotaxia, anaglyphy, anaktoron, anaplasty, ancientry, anisogeny, anotropia, anthokyan, antisolar, antistate, apocalypt, archivist, armillary, arthrosia, ateliosis, atomistic, audiology, autograft, autostage, avolation, barotaxis, beauteous, bequirtle, beswelter, biognosis, biplosive, bisectrix, blennosis, boarishly, bookiness, brierwood, brininess, brinkless, bromvogel, broodless, brownweed, bryaceous, bryogenin, buildress, bunsenite, burghemot, byrlawman, bysmalith, caprylone, cassidony, catalysis, catholyte, ceroplast, cervuline, champerty, choirwise, churnmilk, chyliform, cinereous, cionotome, cirriform, cirrolite, cleithrum, clemently, cloistral, coburgess, cognizant, coleopter, collingly, colophany, colorfast, columbium, commonish, compasser, connately, contactor, contemper, continual, copperish, copygraph, corrigent, coryphene, cotillion, crawlsome, cretinize, crossbill, crowdedly, Crystolon, Cupressus, cystamine, cytologic, dayflower, declivity, demurring, depasture, depthwise, desertion, desmocyte, desmodont, desmosite, deterrent, detersion, devilwood, dispauper, dispenser, displayer, distemper, dithalous, dolliness, dominator, dripstick, droplight, ductilize, dwarfness, dynamiter, dysmnesia, effortful, egressive, encoronet, endosperm, endotoxic, engyscope, enjoyably, environic, epigonium, epitritic, epornitic, esterling, etiologue, euphemism, evanition, exairesis, excavator, exceptive, excipular, execrator, exemptile, expective, expellant, exsomatic, fantasist, felonwood, feodatory, fermorite, filoplume, fishingly, flaxwoman, floatless, floodwood, flourlike, flowering, fluctuate, fluidness, forcingly, foreshore, forestate, foresteep, foretaste, foretoken, forgainst, forjesket, formative, foveiform, fungiform, furciform, gaspergou, gaspiness, geologist, glucinium, glutinate, glycerose, glycosine, gnomonics, goofiness, gradatory, granitize, granivore, grapeshot, gristbite, groceress, grounding, groveling, grudgment, guarapucu, guileless, guillevat, Gymnogyps, hairstone, hamstring, harmonize, harperess, hazelwood, heartsore, heartwood, heliostat, hematosis, hemitrope, hermeneut, hermitish, heroinize, hillberry, hollyhock, holostean, holotonia, homeozoic, homophone, horsehoof, hubristic, hutkeeper, hyalinize, hydrazoic, hydrofuge, hydurilic, hypercone, hypobulia, hypoconid, ideolatry, immensive, impeticos, induction, infestive, inoculant, insoluble, intermeet, intimater, introduce, intumesce, invective, invitiate, irregular, isinglass, iterative, jasperize, jovialize, judgingly, juiciness, junciform, kerbstone, keyseater, kittiwake, knockless, labyrinth, lampooner, larkingly, lathhouse, latreutic, leechwort, leucocyte, leucotome, levigator, librarius, lickpenny, limitedly, listening, lodestone, lysogenic, macrology, majorship, malarious, mammonize, mastigote, maulstick, mealywing, menopause, merrymake, methylate, metricism, microgyne, microwave, midewiwin, milkgrass, millenary, misexpend, misgiving, mispraise, moderator, modernize, Molothrus, monoamino, moosehood, mothering, multilobe, mundanely, murdering, mustachio, myoclonic, myofibril, myrmicine, myrmicoid, nantokite, narrawood, necessary, neologism, nickelous, noncoring, nonfamily, nonrubber, nontrader, nonviscid, nooscopic, nucleator, oaktongue, obstringe, occlusive, octillion, octoploid, odontogen, oenocytic, oinomancy, oliverman, ologistic, omniscope, ondometer, onerative, onomastic, opercular, ophiolite, oratorial, organzine, orthoepic, oscitancy, otidiform, oubliette, ovalbumin, ovational, overbowed, overdraft, overfancy, overgrain, overlaugh, oversated, oversauce, overslide, overspeed, oxidative, padronism, palpitant, pamperize, parataxis, paratypic, paunchily, pauperdom, peachwort, pentosane, peopleize, perimeter, periplasm, peristele, peritreme, perturbed, petalless, petaurine, petticoat, phonetics, piepoudre, pigritude, pilotweed, pinnisect, plainness, plankless, plateless, playerdom, pleatless, plenarium, plummeted, Plutonium, pocketful, poeticism, polysided, pompiloid, postaxiad, postcaval, postpagan, potlicker, powderman, precostal, preferrer, prefilter, preocular, prerental, prescient, preshadow, primegilt, principes, Pristodus, probattle, procerite, profugate, prosodial, protariff, proteinic, protragie, prurience, psoriasic, purchaser, putrilage, pyoplania, pyramider, quartered, quaternal, quietlike, ratepayer, ratheness, rattleran, reasiness, receiptor, recertify, recompass, recompose, reconvict, recountal, recoverer, recureful, recurtain, recusancy, redisplay, redthroat, reduction, refluency, registral, regratify, reinspect, reobserve, replanter, repressed, resoluble, respecter, retrahent, riderless, ringgiver, riverlike, riverside, riverweed, salpiform, sarcocyte, saturated, scalenous, scarpment, scatterer, seemingly, selliform, semideity, seminuria, semiovate, semisaint, serofluid, seventeen, shaftless, sharkship, sharpware, sheathery, sheepfoot, shoddyite, shovelman, shredless, shrinking, shtreimel, sideswipe, sketiotai, skinbound, sleekness, smuggling, softening, somaplasm, somewhile, sommelier, somnifuge, speckless, speluncar, sphenotic, spicewood, spirantic, splendent, spondaize, squareman, stackless, staghound, steelyard, steerling, stitching, stokehold, streetcar, strophaic, Strychnos, sublumbar, subovated, subperiod, subumbral, succotash, sulphatic, suprafine, swampside, swampweed, sweetlike, sweetweed, synclinal, Syncrypta, synedrian, tadpolism, tardiness, taxaceous, teataster, tectiform, tendresse, tensional, testicond, thankless, theretill, threshold, thrilling, tiltmaker, tinkerdom, tittlebat, Tolstoyan, toluidine, tracingly, traintime, transomed, tribeless, trichrome, Tricyrtis, Turkeyism, uhtensang, umbilicus, unadverse, unalloyed, unangular, unarmored, unassayed, unaudibly, unchariot, uncoveted, uncraving, uncrested, unctional, uncurbing, underlift, undersect, undershoe, undertime, underwalk, underwear, undignify, undowered, undressed, unenglish, unerratic, unfawning, unforeign, unfurcate, unfusible, unholiday, unidactyl, unidyllic, uniformal, uninhumed, uniteably, unkenning, unkilling, unlegally, unmartial, unmasking, unmerited, unreadily, unrenewed, unsizable, unskimmed, unsliding, unsteeped, untalking, unthinned, untrammed, untrekked, upapurana, upbulging, upsighted, vanilloes, vapidness, vaporlike, variation, velodrome, verbarium, vesperian, vestrical, viability, vicontiel, vinaceous, virulence, voiceless, vorticial, walloping, washcloth, washstand, wavellite, webfooter, wetherhog, wheelwise, whereaway, whitening, wineglass, witchedly, wondering, worldlike, xerically, Xyleborus, yamstchik, yarringle, zebrawood, zirconian\n",
      "\"969\" = abrotanum, acclivous, acidulous, adnexitis, adoringly, aerobious, afterpart, aftersong, ailantery, airwayman, alpenglow, alternant, amassment, amniotome, anacrusis, analogous, anatomism, ancylopod, androcyte, angiology, announcer, antemural, anthodium, antimeter, antiprime, antitonic, antluetic, aperitive, appetency, arhythmic, aromacity, arsenillo, attermine, authorial, awareness, awikiwiki, axmanship, banquette, barriness, barrowman, bastionet, bathylith, beastlily, becluster, benignity, berrylike, besmother, besqueeze, bestially, bewhisper, biguttate, biltongue, bimastism, biplicity, bismuthal, blackwort, bloodwite, bloodwood, boilingly, bolometer, bowralite, brakeroot, brashness, braveness, brodequin, broomtail, brushlike, bucentaur, buckberry, buckbrush, bulldoggy, bullimong, burrawang, buteonine, canonizer, cantharus, cantingly, carnivore, carnotite, carpingly, castrater, casualist, catalyses, catoptric, centenary, certitude, cessation, chartless, chicquest, chillroom, chirality, choralist, chorditis, cilectomy, clockroom, cockneity, cockstone, coenocyte, coenosite, colloquia, concisely, confiteor, conjugant, connation, conoscope, consecute, continued, copunctal, cormidium, cornbinks, corrodier, cortinate, coruscate, coumarone, cowlstaff, crenature, crestline, crossfall, cubiculum, curialism, custodiam, Cyrtomium, dejectory, demishirt, depoetize, diandrous, dilettant, dirtplate, disanoint, disattire, discommon, disinfest, dismissal, disnumber, distraite, doohickus, douceness, dowitcher, downdraft, dramatist, draperess, dressline, dudleyite, dynameter, dysgenics, easterner, eavesdrop, ecdysiast, ecologist, economize, ecphorize, elopement, embryonal, emollient, emphysema, emptional, encompass, encurtain, entermete, epaxially, epigraphy, epiklesis, equivocal, euxanthic, exactment, excipient, existible, expansile, extricate, exultance, farrisite, fastigium, firewater, fixedness, flammeous, flatterer, flayflint, fleetness, fleshless, forescent, forestial, forevalue, formalize, fossicker, fourchite, fraudless, frigatoon, funambulo, funicular, gallstone, galvanist, gammelost, garruline, gastraeum, geniculum, genteelly, germarium, gerundive, gigmanity, gillflirt, girdingly, giroflore, glaringly, glassware, gleefully, glucosine, glyptical, godmother, goldwater, gonoblast, graduator, gratiolin, gratitude, gratulate, graveship, gromatics, Grundyist, grypanian, guanosine, guildship, hadrosaur, haplodont, happiless, harlequin, harpylike, havenless, heftiness, heliozoan, hemimelus, hemimorph, hemstitch, hereaways, hesitater, hetaerist, hippocras, homestall, homocercy, Horsetown, Hottentot, housekeep, humectant, Hussitism, hustlecap, hygeistic, hypoderma, idiospasm, illapsive, imbordure, imminency, impervial, impliedly, inanition, inblowing, inception, incorrect, incurably, induement, induviate, inerudite, insulated, intenancy, interteam, isobarism, isocitric, jargonize, jeeringly, jockeyish, jointweed, julienite, kermesite, knaveship, kokerboom, lactonize, ladronism, lagomorph, languidly, largition, latitancy, leewardly, lengthful, lineature, lithosiid, loadstone, logomancy, loudering, lutianoid, macrocoly, majuscule, malaxator, malvoisie, mammonish, mandolute, manganous, mangonism, manipular, mannerize, mantispid, marranize, matagouri, Mazzinist, meatiness, meditator, mediumize, mekometer, melologue, meninting, mentalize, merceress, merismoid, merpeople, messenger, metestick, methodize, methronic, miliarium, millepore, millicron, misattend, misdevise, misfeasor, misguider, misrender, mnemonics, mobbishly, modernish, mohawkite, molybdite, monochord, monocycle, monomeric, monoplane, moonblink, morphiate, morphinic, moskeneer, myriagram, myrmecoid, nailsmith, namaycush, nautiloid, negotiant, neuraxial, nictation, nightflit, nighttime, nightwear, nobiliary, nobleness, nomismata, nonaction, noncosmic, nonimpact, nonmanual, nonplanar, nonrecoil, nontribal, nonwinged, novellike, obstinate, obtusifid, obvertend, obviative, ochrolite, oenomancy, onionpeel, operating, ophionine, opinional, orational, orchidist, organette, Orohippus, oscillant, Ostrogoth, overeaten, overleave, overmatch, overrange, palanquin, palmately, palmitone, pampilion, pantheism, papillose, paralytic, parterred, patchouli, patercove, pectolite, penintime, pepsinate, perishing, peritrema, perplexed, persienne, petersham, photogene, physalian, piecework, pignorate, pillarlet, planeness, plantling, plicature, polyphage, Polyspora, porterage, porticoed, postcenal, pratiloma, preaortic, predatism, prefigure, preimpair, preintend, prenotice, prereckon, pressible, pretender, proattack, procedure, proclitic, Productus, proscribe, prostheca, protactic, psephitic, pubescent, pucherite, pulpboard, putricide, quatrible, quilleted, quitclaim, quodlibet, randomize, rapidness, reburgeon, reception, recessive, recorrect, rectitude, rectorate, reforgive, reimmerse, relevancy, reliction, reluctate, remeasure, remigrant, remontado, renewably, rentaller, repealist, reportage, reproduce, resparkle, retardent, revaluate, rhotacize, ridgingly, roughride, runcinate, safflower, sainthood, saintling, sapotilla, sarcoptid, sartoriad, scarecrow, schnorkel, sclerotal, scoliotic, screwlike, semicolon, seminegro, semislave, semisolid, septenate, seraskier, servaline, shakiness, sheminith, shirewick, showboard, shrublike, sialolith, sibilator, Sisyphism, Skitswish, slangular, slateyard, sleevelet, slighting, snakeless, snipefish, sobbingly, sociation, soleplate, spaciness, spaghetti, spermatid, spinetail, splashing, squealing, staithman, stenciler, stocklike, stonechat, stonegall, stormable, stupefied, subdivine, subfactor, subloreal, subniveal, subpoenal, subrictal, subsecive, subulated, succumber, suffering, sweatweed, swineherd, syllidian, Symplocos, tackproof, tailoring, tandemist, tasteably, teacupful, temporale, tenderful, tephillin, terminate, terricole, tetramine, tetrander, thakurate, thanatism, theohuman, theologer, theophagy, thermogen, threadway, Thujopsis, thyroidea, tidewater, titanitic, tithebook, trammeler, tramplike, trematoid, trenchlet, trillibub, trioleate, tripelike, trochitic, truckload, tubularia, Tupperism, turnagain, Turnerism, ulrichite, unaddress, unbewitch, uncertain, uncording, undercast, underdose, undermark, underplan, unendowed, unessence, unexcited, unfigured, ungainful, ungrasped, ungrieved, ungulated, unharming, unifiedly, unifoliar, uniformed, unmanored, unmetered, unminding, unmovable, unnoticed, unpaining, unreeling, unriddler, unsampled, unscented, unseeking, unsingled, unsmelled, unspanked, unsteeled, unthicken, untricked, unwhelmed, upaithric, upscuddle, urophanic, validness, varioloid, vatically, vectorial, vicarship, vulgarian, warrantee, weirdward, witchhood, wittified, woodcraft, workpiece, wrestable, xerocline, yearnling, zeugmatic\n",
      "\"965\" = abhorrent, acoumeter, acronymic, admissive, advisedly, aegrotant, aerophore, aftertask, afterwash, aisleless, aletaster, alloplasm, alveolite, amaurotic, amoralism, amphiboly, amplitude, ampullate, anospinal, anthocyan, antihuman, appointee, apronlike, aquameter, archetype, arctation, arduinite, aspartate, assurance, atemporal, atloaxoid, authentic, bathysmal, belzebuth, berserker, besetting, betrothal, bezesteen, bijugular, bilestone, billionth, bimotored, biography, biologism, birdberry, birdhouse, bishopdom, blasphemy, blatterer, blooddrop, bogsucker, bondwoman, bookstand, boxkeeper, brachyure, brainwood, brushbird, bucketful, buckstall, burggrave, bursarial, butadiyne, buttocked, capitular, caprylate, captainly, caressive, carmoisin, cassation, causative, celioncus, celtiform, centriole, chetverik, chewstick, chillness, chiromant, chromatin, circulant, cisternal, cityscape, clamantly, clathrose, clavately, clerkship, cleverish, cloudward, coccygeus, cochleous, cofounder, coheiress, collation, commodore, concision, concreter, condyloid, confirmer, cordiform, cornopean, cornuated, corollate, corydalin, cosegment, cowkeeper, cressweed, crosshand, cubbishly, cumaceous, cytogenic, deciduous, decumanus, deodorize, deoxidize, depicture, desipient, desiredly, dezincify, diastasis, diazotate, dictature, diffusive, digitonin, diphthong, disentomb, disguisal, dislaurel, dispeople, disseizee, distasted, divulgate, dockhouse, doctorate, dogmatism, doorstead, dorestane, dormilona, drainless, drawshave, drepanium, dyscrasic, dysraphia, earthborn, eastbound, edelweiss, egotheism, eightsome, elderwood, electrion, elegantly, ellipsoid, embossman, enduement, energesis, ensnaring, entrammel, epilation, epineural, epipteric, epispinal, espringal, estafette, ethylenic, eucrasite, eusuchian, eutherian, evernioid, everwhich, evincibly, examinant, excentric, exinanite, exopathic, expatiate, exponence, extrabold, exuberate, exuviable, factually, fairwater, fairyhood, feckfully, fetidness, figurante, filesmith, filmiform, flannelly, flattener, fleetwing, flightful, floatsman, flouncing, fluoboric, flutelike, foaminess, fogginess, foliation, folkloric, forebless, foresheet, forminate, foveolate, freyalite, fulfiller, fulminate, gatehouse, gazehound, genevoise, geologize, germanium, germinant, glamberry, gneissoid, gonangium, gonorrhea, gonyocele, gorilline, gorilloid, gradually, grandness, graniform, granolite, grasslike, grassweed, gravelish, graveyard, grudgeful, guaconize, guideless, gymnasial, gyrfalcon, hairdress, halfpenny, haulabout, haversine, heatingly, helizitic, hepatauxe, heroarchy, hierogamy, hillbilly, homeopath, homograph, horsehair, houseleek, hydraulic, hydrogode, hygiastic, hypotheca, ichthyoid, ideoglyph, illocally, illusible, imaginist, impunible, inability, incentive, inconfirm, increment, inculpate, incumbent, indigotin, inherency, insurable, intendant, interlard, inveigler, invisible, irrigably, isoapiole, itinerate, jaculator, jargonish, jaspilite, jellylike, jockeydom, judicator, Juniperus, kieserite, killinite, lamentive, larcenist, lassieish, laughsome, lavishing, leapingly, lecythoid, lenticule, leptonema, lictorian, lineiform, lingulate, loafingly, localizer, loessland, logicless, lumbering, luminesce, Lunulites, lutidinic, magnetism, maladjust, mammiform, mammondom, manginess, manoscope, manticism, martineta, mausolean, mealproof, megrimish, membrally, mesofurca, mesoxalic, metanotal, microbism, microdose, micrurgic, millerole, minargent, mingledly, misadvise, misdesire, mishappen, misincite, mismingle, misrecite, moldavite, moneybags, monkcraft, moonscape, morbidize, mosaicism, motorable, mucinogen, muckraker, Mussulman, myrobalan, myxedemic, nanosomia, napecrest, nauplioid, navicular, neckstock, nectarize, negativer, negrohood, newsboard, nictitate, niggerism, nighthawk, nineholes, nontragic, norlander, nosogenic, nosomania, nucleolar, nymphical, oblongish, obsequial, occupancy, octochord, Ocydromus, offensive, omnigraph, ookinetic, opinioned, opposable, orgiastic, outbridge, overblind, overdream, overheave, oxanilate, palladous, palmation, palsgrave, panderess, pansophic, parameron, paraplegy, paraxonic, parcenary, peckiness, pectinite, pedantism, pedometer, pelecypod, peloriate, peopledom, perceiver, pharyngic, philocaly, phlogosed, phthanite, phthongal, Phytotoma, plagueful, pleonexia, pliciform, plumipede, polianite, polygamic, polypaged, Pomatomus, pontianak, poundmeal, praenomen, preaction, preballot, precation, preclimax, precoiler, precosmic, predacity, prefiller, preflight, preholder, Presbytis, presignal, pretribal, Priapulus, primipara, procellas, procreate, proracing, prudelike, quarreled, quercetic, quinicine, rageproof, randomish, realizing, rebukeful, recaption, receptual, reconcert, reconfirm, reconvene, recrement, rectorial, recumbent, redeserve, redolency, redressal, redstreak, redundant, regarment, regenesis, reiterate, relapsing, relection, relieving, relishing, renniogen, rerummage, resilifer, retardant, revisible, rhinocaul, rockshaft, rodingite, rubeoloid, rugmaking, runchweed, salvianin, sapotilha, scaliness, scalloper, scammonin, scialytic, sclerized, scraggily, scruffman, scrutable, searcloth, seastrand, semicubit, semiegret, semifused, semisheer, serigraph, serolemma, sgraffito, shaftsman, shameless, shikimole, Shintoist, shipshape, silential, simulacre, sitomania, skeesicks, skiameter, skirlcock, slaveling, sobralite, solitidal, spadefoot, spadewise, spasmatic, spearfish, speedwell, sphaerite, sphingine, sphingoid, spiderweb, spilehole, squamated, squamella, squarecap, stableboy, stabulate, staggarth, stampeder, stigmatic, straddler, strobilae, subaquean, subdouble, subincise, subinfeud, sublinear, subsocial, sulphidic, Swantevit, synagogal, tacheture, tackiness, taeniform, taliation, talkative, tanacetyl, tariffism, taririnic, taxeating, telestich, telophase, terebinth, tetarcone, theftbote, thickwind, thirdling, thrombase, throwback, thumblike, tigerhood, tigerling, tiltboard, torchlike, torchweed, trematode, triarctic, tribesman, trimeride, Trinovant, trunkback, tubicolar, umbratile, unancient, unawaking, unblessed, unbloomed, unboasted, unboweled, uncareful, unconfine, undercoat, underfill, underhold, undermate, underpick, undrugged, uneffused, unelbowed, unfreedom, unfrilled, ungrudged, unhairing, unjuggled, unlosable, unmixable, unpalsied, unplagued, unplanned, unpricked, unpuddled, unrebuked, unscanted, unscraped, unseethed, unsheathe, unsheeted, unteasled, upflicker, venireman, verbalism, vibrionic, vinhatico, visagraph, volcanite, vulpicide, wathstead, welcoming, wellstead, whaleship, whichever, whipparee, wildering, wildgrave, wommerala, Zygoptera\n",
      "\"855\" = abuseful, acanthus, acronych, aerodyne, akamatsu, akinesis, algidity, alkylate, altrices, amazedly, ambusher, anacusis, animally, annelism, announce, anorexia, anticize, antimark, antiskid, apathism, aporetic, arbutase, arcature, archcity, architis, archness, armorial, artcraft, artesian, aseptate, asmolder, aspartic, aspergil, aspersed, assented, asternia, astonied, attender, atypical, aulicism, avianize, avicular, axofugal, backstop, bandboxy, barkless, barmskin, barterer, basilary, bassetta, belduque, beletter, beslings, bespoken, betocsin, betusked, biaswise, bienness, biennium, bifolium, bigamous, binarium, binnogue, biometer, bioplasm, biotitic, birthday, blauwbok, blessing, blooming, blubbery, boasting, boneshaw, boomorah, bootlick, bordured, bostangi, brickset, brigalow, brontide, Brontops, buckbush, bulltoad, burdener, bushbuck, bushlike, caducous, canonize, capercut, caprylic, capsizal, cardroom, caritive, castrate, catalyte, catenary, cattleya, cerolite, cerotate, cerulein, choluria, chrimsel, cicatrix, ciderist, civicism, claptrap, clotweed, clypeate, cobishop, coequate, cofaster, columned, comether, complect, confused, congreet, consider, cookbook, cordwain, coregent, cosharer, cosmetic, costated, courbash, crackpot, crawfish, crawling, crescent, crimeful, crocetin, crumenal, cubiform, cupidone, cymogene, Cynthius, dairying, dankness, darkskin, debutant, deepness, deerhorn, defluent, dehorner, deionize, delictum, delinter, demiwolf, demonish, departer, deprival, diaspore, diazotic, digester, digitule, dioritic, dipteran, disarmer, discloud, disdiazo, disliker, disponee, ditheism, divalent, dogtrick, downfall, downland, dreamily, dreggily, drifting, dunghill, earnings, echowise, eclipser, educator, eggberry, egoistic, elocular, emanator, embolize, emergent, emigrant, entrench, Eosaurus, ependyme, epimacus, epopoean, erective, esparcet, estriche, etiolate, evacuant, evaluate, executed, exiledom, exocline, expander, fainness, farinose, feazings, feminize, feracity, figurate, filleter, firebolt, fiscally, fissiped, fleetful, flotilla, fluellen, fluigram, fontanel, foolscap, footfall, footgear, forecast, forefelt, foremark, foreplan, forfairn, forklike, formiate, fortread, frapping, freakily, frenzied, frighten, frilling, fruitage, fulminic, fumarine, fumaroid, fusarial, galvayne, gaminess, garefowl, geepound, genitals, geobiont, gerendum, giantish, gingerol, glibness, glycidol, gonydial, gracioso, greatish, grudging, gustable, hamewith, hanksite, hatstand, hauerite, hayraker, heatdrop, hedonism, hemiform, herdship, hesitate, hillward, hockshin, holoside, homebody, homeward, homilete, hominine, hominoid, hoofmark, hornerah, horrible, horsecar, hugelite, hurtable, huskened, hyalogen, hymenial, idleness, ilmenite, imbolish, immantle, imperate, incogent, inducive, inguinal, initiate, inrigger, intaglio, iodation, irenicon, ironhard, irrigate, isochasm, isodomic, isooleic, isophane, isoscele, ithomiid, japygoid, jingodom, juggling, juiceful, keerogue, ketipate, klaftern, koftgari, kooletah, lactucol, lairdess, landslip, latherer, latherin, laudanum, laverock, lawnlike, lealness, leniency, lenslike, Leonnoys, lesional, lifeless, ligation, ligulate, limonene, linesman, lionlike, lipomata, loadless, locative, lodgings, logicism, lougheen, lovebird, lucinoid, ludefisk, lycodoid, macrural, maliform, mandatum, manifest, marshman, mausolea, mazarine, meantone, melatope, melinite, melodion, menilite, merciful, metasoma, miaskite, milarite, milkfish, milksick, misguide, mobocrat, modiolar, Mombottu, Monmouth, motorcab, namazlik, nanawood, nasalize, nattered, necrotic, nepenthe, netmaker, nicetish, nightjar, nimbused, nomadize, nowhence, nucleole, nunciate, oculinid, olibanum, ondogram, openside, operatic, optician, overbase, overcare, overgoad, overhalf, overhand, overrace, oviducal, oxanilic, paganist, pagurian, panmixia, panouchi, papalism, parental, paternal, pavisado, pelelith, pellmell, pennoned, pericope, peshkash, phoenigm, pichuric, picketer, pickpole, pimienta, pinkweed, pinmaker, pinniped, plantain, plateasm, Pliotron, plumbago, podargue, pointage, poplared, prefixed, prelabor, premaker, premiate, prenatal, prenoble, prevalid, pricking, proclaim, puddling, pupilage, pyracene, quadrate, qualtagh, rachitis, rapakivi, reattend, reburden, recoiner, recompel, rectitic, redevise, redigest, Reduvius, reedless, regnancy, reignite, renderer, repetend, reselect, resplice, rigidify, rockably, romancer, Romishly, Rousseau, rucksack, runagate, runnable, sacredly, salmonid, salopian, satrapic, saxpence, scarping, scopiped, scraping, scraunch, screener, scrimped, seahound, sealette, seatrain, seaweedy, sedation, seething, selictar, sengreen, Senusism, sephiric, serenate, sexangle, sharnbud, sheeting, shireman, shivaree, siberite, signifer, silvical, sinapine, sinfonia, slammock, sleeping, sleeveen, smalling, snakelet, snapweed, softball, solenial, soulcake, Soulmass, sowbread, spearman, speelken, speuchan, splairge, squiffed, stagnate, stealing, Stegomus, stewable, stibbler, stopback, Stundism, subimago, subrange, sudadero, sufficer, swacking, swaglike, Symphyla, synacmic, syndical, taconite, tagetone, tarkashi, tarlatan, telltale, theetsee, thickish, thrimble, thudding, Timonist, tinchill, titrable, tomblike, Toriness, tradeful, Tragulus, Trappist, traveled, trichoma, trimacer, tunicked, twaddler, Tyrolese, uglifier, ullagone, umbonial, unabused, unaccuse, unailing, unawared, unbatted, unbolden, unbooked, unbraved, unbrined, uncaring, uncinate, uncledom, uncoaxed, uncopied, uncreate, undelved, underlid, undersea, undolled, unerased, unfelted, unforded, unhalved, unharped, unhawked, unhugged, unjuiced, unmarked, unmerged, unmoaned, unplaned, unriddle, unrubbed, unseared, unslaked, unsliced, untackle, untended, untogaed, untraded, unweaned, Uromyces, Ursuline, vaginula, valiancy, vardapet, varicula, vermicle, vinelike, virgilia, vraicker, waketime, walleyed, washshed, whiffler, wigmaker, windlike, woodbine, workable, wrappage, xanthane, yachting, yeanling, Zionless\n",
      "\"861\" = Absyrtus, acaulous, adjuvant, airwards, akroasis, alarmist, alastrim, albronze, aleutite, alsweill, alurgite, ametrope, amirship, analepsy, anatexis, angiosis, anisette, anisopod, ansation, ansulate, apiarist, apophyge, aristate, arrhizal, arsonate, arthemis, asperite, aspiring, astringe, atticize, audition, auntlike, aurorean, auspices, avigator, aviolite, avoucher, axiation, axillant, Axonopus, backwort, banditry, baroness, barrator, beastily, berberry, betterer, bisexual, blastful, blazoner, blithely, bluenose, bluewing, boarwood, boastive, boatless, bonewood, bonneter, booklore, bowenite, bowieful, boyardom, breakout, bretesse, bullfrog, burnfire, bushveld, bushwife, capstone, castaway, catalyze, chastely, chiasmus, chipwood, chiselly, cincture, cinerary, cistvaen, civetone, clypeole, coadjust, coagulum, cobstone, cocowood, coloring, concerto, coniform, copperas, copulate, corneule, coronoid, corydine, cosuffer, couponed, coutelle, covering, cowheart, cozening, crankily, crateris, cremator, creolize, crispine, crucifix, Cyprinus, daddynut, decolour, decorist, defusion, dehorter, dentally, deplorer, deponent, derision, derivant, devilism, dionymal, diphenyl, direness, disendow, disguise, disvalue, dolomite, dominion, dormancy, downfold, downlike, downside, downtake, downweed, dratting, dripping, driveler, drumbler, drumlike, duboisin, ducatoon, dukeship, dwarfism, dysbulia, dyschroa, dysodile, dytiscid, effusive, eggfruit, encomium, enfetter, envassal, epappose, erthling, ethicist, eugenism, euphoria, evection, eventime, evulgate, exegesis, exergual, exocrine, eyeglass, fenberry, fettling, filterer, finnesko, fireburn, fireless, firetrap, flaxbush, floscule, fluidism, flurried, folliful, forborne, forehook, foresign, foresing, foretell, foreweep, foreyear, forsaker, fougasse, friendly, fringent, frisking, gagtooth, ganister, gantries, gastroid, geelhout, giveaway, gloriole, glycerin, glycinin, goatbush, goldless, gonesome, goodsome, gorgedly, gorgerin, gourmand, gracious, grappler, grayfish, grayling, graypate, groining, grueling, guarneri, guileful, gurdwara, hairwood, hebetomy, helmless, helpsome, henogeny, hereness, highmoor, histioid, hobbyism, homesome, horseman, hostager, houghite, humanish, hymenoid, identism, idiotish, illiquid, implumed, indolent, inferrer, infilter, ingotman, inherent, inhesion, inocular, inscient, internal, ironlike, ironside, ironweed, isocracy, isograph, isopodan, ispaghul, isthmian, jarlship, jokesome, jumpseed, keepsaky, kingship, knopweed, kolobion, korimako, koromika, kymbalon, lamester, laminary, latheron, leisured, lemurian, leoncito, leonines, Leonurus, ligature, likewise, limation, limiting, lincloth, literacy, lovemate, lyrebird, macrotin, mainpast, malignly, malurine, manwards, marshite, mawbound, meconium, meharist, melonite, mentalis, mesomere, metaboly, metapore, metazoal, Mimusops, misgraft, misinfer, misraise, misrefer, misspeak, mitigant, modalist, momental, monaxile, monodram, mordancy, morpheme, mortific, mothlike, muircock, myocoele, nasicorn, nastaliq, nebulose, nihilism, nonacute, nonnaval, nosehole, nunnated, obsolete, occupant, octarchy, ocypodan, okshoofd, olivinic, onewhere, onychoid, Oocystis, opencast, organule, Orontium, orsellic, osmogene, outbreak, outcheat, outflame, outplace, ovenlike, overbold, overmean, overname, overrack, oversaid, overseed, overwade, paganity, paludose, pangless, panorpid, pantalon, pantheon, papistic, parietes, patiency, paxillar, peignoir, perclose, phimotic, physical, pianiste, pictoric, piedfort, pieplant, pilidium, pillaret, Pilumnus, pisanite, pitmaker, planting, plateful, playmate, plugging, pluglike, pocketer, podsolic, poetlike, Porokoto, poulaine, praising, preclose, preharsh, premisal, prickish, priggish, profaner, provided, Psilotum, ptilinal, ptomaine, puckling, pulsidge, quandong, quarried, quotable, ragingly, rainwash, ramiform, rapacity, rasorial, raugrave, realness, reavouch, redolent, referrer, refilter, reinsman, releasor, rentaler, repocket, rerental, resinoid, resplend, reticule, rhamnose, rigation, ringgoer, risibles, roadless, rockward, romantic, rondelet, roughleg, ruffling, runboard, sailship, sandless, sasanqua, satelles, savagess, schizoid, scrambly, scumlike, scutated, scutella, seaberry, seamless, secretin, sectoral, sectroid, selenion, semibull, semiflex, semiotic, semitime, sereward, serratic, settaine, sewellel, shadower, sharkish, shawling, sheepify, shingles, shoreman, shortage, showcase, shrapnel, shrieker, sideslip, sidewise, sighting, siliquae, silktail, singarip, sinkhole, Sintoist, sinuated, siphonic, sirenoid, skeenyie, skelping, skilfish, skilling, skiogram, smallish, smaltine, smircher, snobbism, snobscat, soapfish, solenoid, sonatina, sourcake, spanghew, speering, splender, Sporozoa, squibber, stackful, staggart, staining, stalking, stanzaic, stileman, stravage, stridden, stridhan, suberect, subjugal, subpoena, subpubic, suburbia, suffrago, sunscald, supplace, takedown, tattered, telestic, teratoma, tessella, testicle, tethelin, tetrapla, tetrarch, thankful, thecitis, theistic, thislike, tideless, tigerkin, timeward, trembler, triadism, trifilar, trilogic, trinodal, Trisetum, truebred, trunched, tunicate, turbined, turicata, turnable, Tyrsenoi, unactual, unasleep, unbarren, unbasket, unbolted, unbundle, unclosed, uncooped, underbit, underpan, undesign, undulled, unespied, unfather, unguiled, unhatted, unheroic, unhipped, unhooked, uniphase, unirenic, unlorded, unmoated, unmoiled, unpenned, unpilled, unplated, unpuffed, unshaken, unsigned, unsinged, untanned, untragic, unvoiced, unwading, uplifted, uralitic, urceolar, urocerid, vacuolar, vanillin, vapidism, variancy, vealskin, vendibly, venesect, verjuice, versicle, vertible, verveled, vesicant, viameter, villagey, vocalize, voiceful, walkmill, wammikin, wardency, wardsman, washtail, whiplike, whirlgig, whitrack, widdifow, wiselike, wiseweed, witching, wolflike, woodshed, xanthate, yatalite, yearning, yeldrock, zucchini\n",
      "\"856\" = abrastol, accismus, acervose, acromion, acrostic, actinism, adorally, aerolith, agnostic, agronome, albumose, alefzero, algraphy, allylate, alqueire, alytarch, amblypod, amygdule, angiitis, annulate, anorthic, anoscope, antelope, anthroic, antidote, antimask, aperient, apteroid, aquiline, archlute, argenter, atrophia, attainer, aucupate, autocoid, ballroom, bandwork, banister, basicity, basileus, basquine, bathorse, bayardly, beamwork, begotten, bellwood, benignly, benzoate, bepowder, berylate, beshiver, besnivel, bestrode, bewizard, biasness, binately, biophore, birdless, blastula, boarship, bodingly, bodyhood, boninite, bowmaker, breaster, bromelin, Brownist, buckwash, cacotype, camerist, carburet, caresser, caulomer, causeful, cellulin, centerer, centroid, ceramist, cetrarin, chapelry, cheesery, chiropod, chopping, cinquain, clammily, clayware, clinting, clothing, clubbist, coasting, coestate, coherent, cohesion, coliuria, combless, comedist, condoner, conidium, coumalin, courager, coverlid, creamery, crocoite, crocused, crunodal, cuculine, cuculoid, cupmaker, Cypselus, daftness, daintify, dandyize, danseuse, dawnward, dazement, decently, deflower, demotics, denature, depolish, deportee, devilish, dewlight, dibstone, dictynid, diffuser, diformin, divining, doctoral, doctrine, dolerite, dolesome, domestic, doornail, doveling, dovetail, drawling, duckpond, dwarfish, dynamics, dysergia, Dytiscus, earlship, eccyesis, ecostate, edeology, electret, elvanite, emblazon, embolism, emiction, eminency, empocket, enlaurel, enlisted, enodally, enterate, eosinate, ephorate, epiphora, episcope, epochism, Eremurus, estivage, ethnicon, euchrome, evelight, excretal, exercise, exolemma, exordial, expedite, fastener, fatalist, faucitis, feathery, felinely, feminism, fenestra, fermerer, filiform, finchery, finisher, finitude, Fitzroya, flixweed, flowered, forcedly, forehoof, forerank, foretalk, foyaitic, frogfish, froghood, frogling, furanoid, gamester, garneter, gasiform, gateless, gaudless, gauteite, genisaro, genthite, geometer, geotonic, geranium, giftedly, girlhood, glegness, globular, glycocin, glycogen, glyconic, gnathion, gommelin, gramarye, grandeur, grounded, gudesire, guttable, gynander, gynobase, halteres, hangnest, hardness, hardwood, harefoot, hatchery, haystack, headpost, hendness, herbless, herefrom, herohood, hillsman, hirudine, homeotic, huajillo, humanics, hyacinth, hyphenic, hypogeic, imamship, immolate, inasmuch, incenter, induline, inertial, informal, infrugal, inhauler, inundate, invalued, ironbark, irrelate, ischuria, issuable, jadishly, jargoner, jermonal, jookerie, keelless, keratome, ketoside, kingsman, knackery, koinonia, Koolooly, krouchka, lacework, lameness, lamenter, laminose, lampwick, laniform, laughful, lavenite, leperdom, leucotic, libelist, linarite, lindoite, lingerer, lingulid, linolate, lintseed, lobation, lobulate, locksman, logogram, longeval, Loyolism, lozenged, maleness, maneless, manistic, marennin, maritime, matrices, meathook, megalops, meresman, meteoric, microerg, microtia, milltail, mimicism, misagent, misaward, misjudge, missible, molecast, monadism, monogene, moonfall, moorball, morefold, mothered, mucinoid, nameless, nasalism, navigant, nearaway, nebulite, neckless, niceness, nomadism, nonelect, nonmodal, novemfid, objector, oblation, omnimode, oniscoid, oogonial, oomantia, oscinine, otogenic, overbalm, overbank, overbeat, overcall, overdare, overdear, overfeel, overread, owregane, pachypod, packness, palation, pangolin, panhuman, pannikin, paparchy, paraform, parament, pascoite, patagium, peakless, pearlish, pedately, pederast, penalize, peperine, perfecto, perfumed, periderm, periscii, petalite, phthalin, piassava, piazzaed, pickings, pigbelly, pipefish, pittance, plainish, plaiting, plaudite, pleasant, pockmark, podocarp, poinding, polished, pollinia, polyclad, precinct, predraft, premodel, prescind, preshape, prochein, progrede, prolific, pucklike, pumicate, Puseyite, rabidity, raciness, rackless, raveling, rearward, reattain, recenter, recentre, rechoose, redispel, refasten, refinish, refreeze, regravel, relament, relessee, relevate, remantle, rendrock, repartee, repeater, resnatch, restbalk, retailer, reveille, rhamnite, rheocrat, Rhizodus, ribspare, rimmaker, ringhals, roborean, roncador, rufflike, saddlery, safeness, sailsman, sanglant, sarcotic, satrapal, saxicole, scabinus, scalenum, scampish, scaphism, Scorpius, scowbank, scrolled, scrubber, seducive, seedless, seilenoi, sejugate, selfward, sellably, semirare, semolina, sensilia, septemia, sericite, serranid, shaggily, shamrock, shapeful, sheeppen, shikasta, showance, silklike, silkweed, Sisseton, snatcher, snobbish, Snonowas, snubbing, soaplike, soapweed, solander, solvable, somnific, songbird, spalpeen, sparerib, speedful, spending, splenial, spondean, squabash, stancher, standing, stannane, steaming, stephane, stonable, suasible, subdrain, suchlike, superadd, swayable, syllable, synalgia, tagatose, tailpipe, tailward, talapoin, talukdar, tanchoir, tasklike, teatfish, teatling, teething, tenesmic, tercelet, terracer, terrific, tertiana, teskeria, tetanine, tetanoid, tetrical, thearchy, themelet, throbber, throdden, tilefish, tolidine, trabucho, tractate, tractile, trailman, twafauld, twichild, Tylerize, unaiming, unattach, unbating, uncarved, uncaused, uncoffer, uncoffin, uncooked, uncurbed, undaring, undarken, underdog, undereat, undergod, underlie, unending, unendued, unfecund, unflayed, unfrigid, unfueled, unginned, unguical, unhasped, unhoofed, unkenned, unkilled, unlineal, unmarled, unmasked, unmolded, unpaired, unpeered, unphased, unranked, unregard, unrepaid, unsauced, unscenic, unshaped, untalked, unwelded, uratemia, ursicide, vaginant, vallidom, vanguard, varietal, vegasite, vengeant, vibrioid, Viburnum, villadom, villaget, villatic, vocaller, wagonman, wanderer, wardapet, wavelike, wettable, whiskied, wildbore, windroad, winelike, wirebird, woodland\n",
      "\"971\" = aburabozu, acropathy, acuteness, aftercost, afterglow, afterroll, albatross, aleuronat, aligerous, alloeosis, ambiguity, amoristic, anandrous, anconeous, anemology, anniverse, anoterite, aroideous, athletism, atonement, attenuate, attrahent, auriphone, auriscope, auroauric, autocracy, autograph, barretter, bathybius, bedrizzle, bentiness, bicornute, biogenous, biovulate, bisontine, blatantly, bookstall, bordarius, brogueful, calculous, calorizer, cankerous, caponizer, captainry, carousing, cartelist, cataplexy, cenotaphy, certainly, cervicorn, chantress, chatoyant, chernozem, citharist, claustral, clayiness, clianthus, clitellum, closewing, cloudship, clustered, clypeolar, coadjutor, cockneyfy, cocksfoot, colluvial, completer, conformer, connector, consertal, contemner, convivial, convocant, corticose, cosmocrat, coswearer, cotwinned, coveralls, creosotic, criophore, cryptical, culminant, curtailer, cyclolith, cynophile, cysteinic, cystocele, dampishly, deathworm, defyingly, demission, detersive, dethroner, deutoxide, diapyesis, diffusely, digitizer, dignitary, diosmotic, dipperful, disadjust, disgenius, dishwater, dittogram, divorcive, doctordom, doddypoll, dolioform, domeykite, downshare, drawglove, driftwind, drivebolt, duckhouse, duodenary, earthless, ecstasize, edeoscopy, egotistic, elbowbush, ellipsone, encaustes, energizer, epicrisis, estranger, ethnicist, exaration, exarchist, excitedly, excrement, exculpate, exhausted, exigenter, exilement, exocoelom, exodontia, exonerate, fagottino, faintness, fairishly, faultsman, fecundity, fetishize, fightwite, figuredly, fisherboy, flirtling, floodless, floscular, foliature, forecover, foresight, forgetive, forgiving, foveation, fragility, frankness, freestone, frightful, frigidity, fulgurata, fungation, furcation, gainfully, gazetteer, gelinotte, generalty, gentilize, gerontine, gestalter, geyserine, glaireous, gliriform, gnathitis, goldsmith, goldspink, golliwogg, goosegirl, granulite, gratewise, grievedly, griquaite, groundman, guerdoner, guideress, gulleting, gunocracy, happiness, harnesser, harrisite, heartburn, heartless, heelprint, hepatitis, hercynite, hexathlon, hilliness, hillwoman, historied, hobbyless, hopscotch, horsefish, horsehood, horsetail, housecoat, household, housemate, hoydenish, huffiness, humiliant, hurricano, hybridism, hydrolase, hydrophid, hypericin, idiopathy, ileectomy, impanator, impatient, impetrate, impingent, implement, incretion, inductive, inebriety, inerrancy, ingluvial, insapient, intensate, interlock, intermine, inviolate, ishshakku, isotheral, itchingly, jemminess, jolleyman, kittereen, koniscope, lacustral, landdrost, lansdowne, lapsation, larvikite, lashingly, lautarite, leeringly, levulinic, limeberry, limehouse, lineality, lipopexia, lithosian, loaminess, logogriph, logothete, longicorn, longitude, lymphatic, magnetron, majorette, malhonest, mammality, mashelton, masochist, measuring, meatotome, melanosis, meliorant, melodizer, mentorial, mesmerite, messelite, metallary, metaplast, metastoma, methylene, microlith, midweekly, milliform, millioner, mimmation, misfigure, misintend, misreckon, monocracy, monograph, monomachy, morindone, morphetic, mucidness, muckerish, mucorioid, myectopia, naseberry, nasoscope, navigator, Newtonist, nigritude, nomocracy, nomograph, nondebtor, nonfeasor, nonserial, noonstead, nutjobber, nutricial, obviation, oftentime, oleoptene, opiniater, orchestra, orientate, originant, oscheitis, Otolithus, otopathic, outpreach, overcreep, overforce, overjudge, overrigid, overtrace, oviductal, pageantry, painingly, palatitis, palliness, palmature, pangamous, paroarion, parorchis, parorexia, parosteal, pasquilic, pastorale, pendulant, pennybird, pentoside, periodize, perioikoi, persuader, phanatron, phonogram, picrolite, pilastric, pilgrimer, pipelayer, pistareen, pleonaste, ponderant, posteriad, postplace, poundlike, praepubis, praiseful, precooler, preferent, prefright, prepardon, prepoetic, presentee, prideless, priestcap, primitial, professed, profferer, prolabium, prongbuck, pronglike, puissance, pyrgoidal, quadruped, quittable, ragefully, railingly, ravishing, reanalyze, rearhorse, rearwards, recapture, recession, reconform, recruital, reductive, reduvioid, reelingly, reeveship, reharness, reindorse, relocator, repatency, repellent, reperfume, repugnate, reticular, reundergo, reviolate, rewaybill, rheometer, rhipidium, robotlike, rosellate, rubescent, salvarsan, saponarin, scalework, scillitin, scintling, scotomata, sectarism, selfwards, semiflint, semipaste, semisteel, semitonic, sepulcher, sequencer, serratile, sewerlike, shoddydom, shorthand, sibylline, sidership, sigmation, simplexed, siphonate, siphuncle, sivathere, slabstone, slavering, sleeveful, smothered, snakewood, snobocrat, socialist, sodomitic, sonantina, Southdown, spaewoman, sparkling, sparteine, speakless, speronara, spiceless, spiderish, spinnaker, spleenish, staffless, statehood, stenchion, stinkdamp, stonedamp, straggler, Stylaster, subcenter, subduably, sublessee, sublevate, submental, subnivean, substanch, subwarden, superanal, surdeline, surpliced, suspended, swabberly, swinelike, swingeing, synedrial, syphilide, tailordom, tailwards, tartrated, taxameter, tearstain, teleseism, tenacious, tenodynia, tentmaker, terminine, tetraiodo, theoricon, thereckly, thicklips, thrasonic, thumbmark, tierceron, timocracy, tinampipi, touchhole, touchline, trachitis, trachytic, traguline, traguloid, trailsman, trenchful, trepidant, trieteric, triplasic, trisilane, triticoid, Tritoness, triverbal, truthable, tubercule, udderless, unallowed, unarrayed, unavenued, unbetoken, unbombast, unbowered, uncleanly, unclement, uncleship, uncolored, unconcern, uncovered, uncrinkle, uncrowded, undawning, underboom, undercool, undergnaw, undergoer, undergore, unemptied, unfashion, unfettled, unfishing, ungentile, ungroined, unhurdled, unignored, unimbrued, unitarian, unjudging, unlikably, unlimited, unloaning, unmocking, unmonarch, unmundane, unplanted, unplucked, unplugged, unpouched, unpraised, unruffled, unsainted, unsalably, unseeming, unsighted, unskaithd, unskilled, unsleeved, unspeered, unstained, unstalked, unwitched, unyearned, urechitin, uroleucic, uroplania, Utraquism, utterance, valiseful, variative, verminate, viatorial, vibetoite, vinculate, viperlike, volcanize, vulcanite, wassailer, watchment, waterline, weedproof, werowance, whillaloo, whispered, whitefish, whitetail, worktable, wrathlike, yeastlike, youthhead, Zaglossus, zimbaloon, zoogamete, zoogloeic, zoophobia\n",
      "\"974\" = ablastous, absolvent, abysmally, acoustics, acrospore, adjunctly, adventure, affixture, agistator, allomorph, allopathy, alternize, aluminize, anhydrize, ankylotic, annexment, anorthite, antidoron, apetalous, apishness, apostolic, aprosopia, artolater, ashthroat, astigmism, astrodome, atmometer, atrienses, attingent, avalvular, azobenzil, ballotist, barrister, betulinol, betutored, bitterish, blindworm, bloodshot, botanizer, breezeway, brickwork, bryonidin, buckishly, buckstone, butlerdom, cambistry, castorite, cattiness, centrally, cholecyst, chophouse, churchway, clamorist, classwise, clonicity, cloudless, coaxingly, coelostat, coemption, coglorify, colicroot, columbary, comfiture, commissar, compasses, confluent, confronte, consulate, copartner, corrasive, corseting, cosenator, councilor, coversine, coxodynia, crapulent, crazyweed, creditrix, cretinism, criticist, crotalism, ctenodont, curlpaper, cyanurine, Daedalidae, dartingly, dasymeter, dawsonite, declivous, defluxion, defroster, denitrify, denitrize, dentality, dentition, desertful, diaphysis, diatomist, dicrotism, directrix, direption, discantus, dishorner, dismayful, dissuited, dizenment, donkeyish, downcomer, drivewell, earthstar, electuary, embowment, embryotic, emmetrope, empicture, emulation, encrimson, endoproct, endostome, environal, epicyesis, epistomal, epithesis, eroticize, erugation, esoneural, ethmolith, exactness, excelsior, exhibitor, exuberant, falsework, fergusite, ferryboat, fertilize, filarious, fillister, filthless, fishberry, fishhooks, fishhouse, flotative, flukeless, footplate, foreloper, forewoman, forgetful, framework, fulminant, fumigator, gallantry, gaspingly, gastralgy, geochrony, geognosis, gestation, gilsonite, glowering, glycerize, goitrogen, graveness, greenroom, groomling, gypsyhead, halophyte, harmproof, harpooner, hatefully, hectorism, hellishly, hemiprism, hemolytic, heptapody, heptylene, heroinism, hippolite, histogram, hoggishly, holeproof, homiliary, honorably, hoofiness, housebote, houseling, huggingly, hyalolith, hydantoin, hydragogy, hydrazine, hylactism, hyolithid, idiotypic, imitation, impudency, indenture, indispose, informant, ingestive, injustice, innatural, inquiline, inquinate, installer, intercept, interpave, intertalk, interweld, intoothed, inviolacy, isodurene, isohydric, isophoria, itchproof, itinerant, jerkiness, jewelless, jockeyism, jokesmith, justiciar, ketonimin, kilojoule, kinetomer, kinoplasm, knockdown, konimeter, kontakion, lacrosser, laevogyre, lalopathy, lassitude, latration, latterkin, laumonite, lentitude, lettering, licitness, lingberry, lobectomy, locksmith, logometer, lonquhard, ludwigite, lunulated, malignity, malleolus, mammonism, mannitose, manualist, marsupial, maximally, meandrous, mediatory, melituric, metasperm, meteorite, metosteal, microsome, micturate, miniature, minnesong, minuteman, misassign, misreward, moaningly, modernism, moldiness, molluscan, moonraker, moraceous, moratoria, moringuid, mouselike, mucronate, mullocker, myopathic, narration, neogamous, neurinoma, newmarket, nictitant, nigrities, nigrosine, nippitate, nitratine, nonbodily, nonrepair, nugacious, occiduous, oenometer, offspring, ontologic, optigraph, ordinally, organless, ottrelife, outbreath, outlander, outsearch, overacute, overfaint, overfrank, overlearn, oxyiodide, painproof, palsylike, pampootie, papillary, pappiform, parhypate, pathetize, patrolman, patronate, peathouse, pelodytid, penniform, pentaglot, pentarchy, pentatone, perdition, perfectly, peripolar, permitted, petalwise, petrolene, phacocyst, phenolize, phocodont, phosphine, photoetch, pietistic, pinaculum, pistillid, plankwise, planosome, plantaris, plantsman, pneumonic, pollarchy, polyergic, portiered, posthabit, praetexta, preacquit, prebetray, predesert, predevote, prefectly, prelation, prenative, preneural, presecure, presental, president, prespinal, probation, procacity, prochurch, procreant, productid, profanize, profarmer, promnesia, prophetic, proselike, proseuche, Prosopium, psoriatic, publisher, pulselike, pyramides, quickborn, quittance, quotidian, rantipole, raptorial, raucidity, ravelment, rearousal, reassured, redispose, refitment, refutably, reimburse, reinstall, reitemize, reiterant, reoutrage, republish, resolicit, retardure, retreater, retrieval, rhamnitol, rhinolite, ripperman, roomstead, roundseam, rubricose, runestaff, rutilated, sauciness, scazontic, scientize, scorbutic, securitan, seduction, seminally, semivital, sepiolite, seriation, sermuncle, severalth, shaftfoot, shampooer, sharkskin, shelflist, shelterer, shineless, shogunate, shotmaker, shrewlike, shrinelet, sighingly, sigmatism, signalist, sillibouk, sincerely, singlings, singspiel, skewwhiff, slapstick, slicingly, slopmaker, smudgedly, soliciter, something, soporific, sortilege, spadonism, sparganum, specialty, specillum, sphenodon, spleenful, spottable, squamulae, squencher, squibling, staidness, stakerope, stasidion, steadyish, steamship, stinkweed, stockfish, stockpile, stokehole, stonelike, stoneweed, stopboard, strappado, Stylochus, subbureau, subcurate, subregion, subtrench, sulfurage, superbias, supercube, superdebt, supergene, supersafe, surfacely, Svantovit, switchman, synchitic, syringeal, tabulator, tacitness, tailstock, talkiness, talpiform, tartufian, tasimeter, teemingly, teleodont, teleozoic, templater, templeful, tenaculum, tendingly, tenodesis, tesseract, tetragamy, tetraxial, tetrazane, thiocyano, thornbill, tocokinin, toftstead, toiletted, tolerably, tongueman, toolmaker, tornarian, toxinemia, Toxostoma, tradition, tramphood, translate, trapezian, traveldom, triannual, tribalist, tribuloid, tribunate, trigintal, trilobite, tripudial, tropidine, trucklike, turbinate, Tuyuneiri, typhoidal, ulmaceous, unaverted, unbaronet, undeputed, underbrew, undergrub, underlive, underpier, underpole, underring, underripe, undersell, undevoted, undiluted, undistend, uneternal, unfertile, unfloored, unflushed, ungenuine, ungrapple, unlassoed, unmagnify, unpimpled, unprecise, unpredict, unprofane, unquashed, unrescued, unreviled, unsatiate, unsecured, unsnapped, unsnuffed, unsphered, unstifled, unsuckled, unsugared, untarried, untempled, untrashed, untunable, unwailing, vaginitis, velveteen, veratrate, vernicose, vesicular, vexillate, vibration, viceroyal, viruscide, vitaphone, vitascope, viterbite, vocalness, wagonette, wahpekute, wangateur, watchless, watermark, weretiger, witholden, woadwaxen, womanfolk, wristband, xanthione, xerotocia, yardstick, zuccarino\n",
      "\"972\" = accessory, acropolis, acutiator, adderwort, adrostral, aerocurve, affluxion, afternoon, agistment, alimentum, alloplast, alpasotes, altarwise, amatively, amazingly, ambiguous, ambrology, amoralist, amphigony, anatopism, angleworm, anidrosis, ankylotia, annotater, antiquate, antivenin, apartment, apertured, apneustic, apogamous, aprosexia, arborator, archivolt, argusfish, aromatize, artemisin, arylamino, asininely, assenting, asynaptic, atheology, audiviser, aureately, axometric, befluster, bellmouth, bespurred, biologist, bishopful, bispinose, bivittate, bivoltine, blanketry, blazingly, blueberry, bluejoint, bondstone, bookwards, botcherly, boughless, brassylic, brawlsome, broadways, bulginess, bulliform, bullpates, bummerish, bystander, caprizant, carbonous, catamount, caudatory, cauterize, ceylonite, cinderous, clamatory, clausular, coastally, cobaltous, coemperor, coemptive, cogitator, coilsmith, coinspire, colemouse, collision, columning, colymbion, compactly, compenser, compulsed, consoling, cordonnet, corodiary, corrugate, cothurned, cottagers, creatress, creirgist, crepiness, cresylate, crookedly, crostarie, crudeness, crustific, cuticular, cyanurate, cyclopite, cypseline, cypseloid, czaristic, daisybush, decurrent, decursion, defortify, deiparous, deipotent, deliveror, departure, depthless, detriment, devilwise, deweylite, dictatrix, dictyotic, dioptrate, Diospyros, diplosome, disgusted, dissembly, distiller, distingue, diverting, dogmatist, dosimeter, doubleton, doubtedly, downstage, downweigh, driveaway, dystectic, dystocial, effossion, elastomer, emulative, encushion, endomorph, enhydrite, enthymeme, entoblast, epicurish, epipodium, epistolic, equisetic, erectness, eriometer, erosional, eruciform, eschynite, escopette, esculetin, esophoric, euphemize, evenblush, exaltedly, exceptant, expectant, fatefully, favoredly, fetishism, fireproof, fisheress, fishiness, fishwoman, fleshlily, flightily, flotorial, foliolose, foreseize, forestall, formicary, forwarder, franticly, frockless, fumacious, furzechat, fustigate, garnetter, gawkiness, gentilism, geogenous, geophytic, geotropic, gestative, gibbosity, globulose, glomerule, glyoxalic, goldentop, granulosa, graveless, greatness, grosgrain, guativere, haltingly, hardmouth, harmotome, hasteless, heartwise, heliology, helpingly, hemitypic, hoariness, holotrich, homoeotel, homotaxic, horehound, houseline, huffingly, hygienize, hyperpnea, hysteriac, ichnology, imaginous, imitative, implanter, implodent, inburning, infestant, influenza, innervate, inpatient, insection, integrant, interloan, interlude, intraoral, invalidly, invariant, iridocyte, iridotome, isocymene, jargonium, jeerproof, jillflirt, keraunion, kilometer, kneestone, kwarterka, larcenous, larkiness, lawmonger, leftwards, legpuller, leiomyoma, lepidosis, lifefully, lightship, lightsome, Ligustrum, limnobios, loathsome, lodestuff, loincloth, magnetist, malguzari, malintent, malturned, mannequin, manslayer, mantistic, massagist, masterdom, mazodynia, mealmouth, melituria, meniality, metricize, microcosm, minimally, misesteem, misphrase, monaxonic, mordacity, morganize, mosaicist, mossyback, muddiness, mundanism, Munnopsis, myopathia, Naiadaceae, naiveness, narrative, nefarious, neologize, nitrifier, nonformal, nonfreeze, nonmental, nonoscine, nonrecent, nonrepeat, obstinacy, oilmonger, oleometer, omnihuman, oncometer, oneirotic, oogenesis, overabuse, overbrave, overbuild, overfling, overlabor, overtrade, overtread, paleology, pallidity, palosapis, panmerism, pantalets, pantaloon, pasturage, patchword, paterissa, peckishly, pellotine, pellucent, periostea, perisomal, perthitic, phelonion, philately, philliloo, phosphate, physcioid, physocele, picksmith, pillarize, pimpernel, piririgua, pisciform, plaintive, plashment, platitude, plenilune, plexicose, plumdamis, pneoscope, pneumonia, podginess, poeticize, polarward, pollenite, polymelia, Polynemus, pomaceous, Porphyrio, pourpiece, precision, predictor, predorsal, predrawer, prelatish, premodern, prepeople, presspack, princesse, prismatic, probative, probudget, processal, proethnic, prognathi, prolactin, promachos, pronubial, proparian, prosocele, proverbic, pteraspid, pureblood, pyodermic, raininess, rascality, recensure, reconvoke, recrucify, redistill, reforward, refulgent, reimplant, renderset, rendition, reptiloid, resection, retrample, rewardful, rheophore, rhodonite, rightward, rogueling, rollerman, sailingly, salometer, sandproof, sapanwood, satiation, scenarist, schoolish, scopoline, scorodite, scorpioid, scrappler, scutcheon, scyllioid, scytheman, seawardly, secession, secretion, seductive, selzogene, semipause, semipolar, semitonal, senocular, seraphism, setaceous, shammocky, sharpshod, sheepless, shellblow, shipbound, shitepoke, shrilling, shydepoke, sidewiper, signation, skelgoose, slaveborn, slavikite, slingsman, sloganize, slouching, smartweed, snideness, snowbreak, snowshade, snuffling, solitaire, somatomic, somberish, sonorific, sorcering, spatheful, spiciform, Spinozism, sportable, sprinkled, squelcher, stagewise, steedless, steelware, stenchful, stickfast, stolelike, stoolball, Sturiones, subexcite, subfamily, subfigure, suboctave, subrogate, subsample, subtrifid, sulcalize, surcingle, sutlerage, tantalize, tarantula, tariffist, taxinomic, tearthumb, tectonics, tephritic, terrifier, theologue, therefrom, thickness, thirdings, thoughted, thrawneen, threesome, threonine, toxaphene, trackless, traditive, transreal, transvaal, trapezial, traveling, trialogue, triatomic, tribulate, triforial, triformed, trifurcal, trilithic, trinodine, triolefin, Triosteum, tuborrhea, tunemaker, twinelike, Tylostoma, udometric, unallured, unaproned, unaverred, unbespoke, uncentral, uncoaxing, underbody, underdraw, underward, uneagerly, unequated, unerasing, unflunked, unfocused, unforesee, ungoddess, ungrassed, unhandily, unhateful, unhaunted, unifloral, unijugate, uniserial, unkingdom, unlawlike, unpeopled, unperfect, unpirated, unplumbed, unsighing, unsincere, unslapped, unsluiced, unsmudged, unspanned, unspelled, unstalled, unstrafed, unstubbed, untainted, unteeming, unthumbed, untrading, untreated, unwhelped, upbuilder, urceiform, Uromastix, urosacral, uxoricide, ventilate, ventricle, verbalist, vermicule, vibrative, viragoish, vitelline, volcanism, waiterdom, wearisome, weavement, wenchless, wheelless, whipgraft, whipstaff, willemite, withamite, womanhood, womenkind, wordcraft, wordmaker, xanthogen, xanthopia, xenophile, zoogloeal\n",
      "\"1078\" = absentness, acrogenous, actinozoan, acuclosure, adipopexis, agonizedly, alimentary, allegorist, alutaceous, amherstite, andrewsite, anemopathy, anemophily, angiotonin, anguishful, angulately, anthomyiid, antigorite, antipapism, antirennin, antitheism, aphoristic, apophyseal, appleberry, aquilawood, arrogation, arsenolite, articulite, ascosporic, aspalathus, asperation, attingency, attractant, autoptical, avaricious, Bacillaceae, backfurrow, backwoodsy, besplatter, bewitchery, biquintile, bismuthate, bitingness, brazilette, brighteyes, bromphenol, bulbotuber, bulimiform, carpetless, caseworker, castaneous, catawampus, celiolymph, centiplume, centistere, charthouse, chartreuse, chattiness, cheiropody, chirurgeon, chontawood, choristate, chromatize, churchscot, Circaeaceae, circumfuse, citizendom, clavierist, clientless, clingstone, clupeiform, coarseness, codisjunct, coetaneous, collimator, collinsite, colonially, combwright, cometarium, commodatum, concertize, conclavist, concretize, condensary, conduction, confrontal, confusably, consolably, contection, contrahent, convective, coproducer, corniculer, corrective, corrigibly, cortically, coxcombess, crampingly, cratometer, crimeproof, cringingly, crumblings, cryogenics, cryophilic, cunctative, curatorial, cyathiform, cyclotomic, dehydrator, deliveress, deluminize, demipriest, demiurgism, denaturant, dermatitis, desolately, dictatress, dictionary, dictyonine, dihysteria, discompose, disconjure, discoverer, discurtain, disguising, dishwiping, dispersoid, dispraiser, disrespect, disscepter, dissoluble, dittograph, divisorial, docimology, dogmatizer, dorsonasal, downlooked, earthiness, electively, elementary, eleonorite, embryonate, enamorment, enrockment, ensilation, enteromere, enticingly, ephemerist, epiparodos, epithelium, equivalved, equivocate, ericineous, euglobulin, euryhaline, evaluative, excitative, excitement, exportable, extendedly, extrarenal, exuberancy, factuality, fathomless, figurative, figuresome, fleshbrush, floriscope, foldcourse, fondlingly, forebitter, frijolillo, frondiform, fulminancy, gastricism, gatewright, geostatics, giantesque, gleesomely, glucolipin, gnarliness, gossampine, graduality, gravewards, gravidness, gravimeter, grieveship, guardingly, guitarfish, halochromy, harassment, havergrass, havingness, heartiness, hectostere, hematozoan, hemistater, henwoodite, heromonger, hesitative, heterandry, hitchproof, hoernesite, homeopolar, homodoxian, homotaxial, humaniform, humbleness, hundredary, hydrocycle, hydroplane, hypergolic, iamatology, Icacinaceae, ichthyocol, idiogenous, illocality, impairment, imperative, imprecator, indentment, indicatory, infectress, inflexibly, initiative, inkslinger, insolvence, intendment, interferer, intergraft, interstage, interwhiff, intradural, intratubal, ironically, irreverend, irrigative, isoamylene, isoflavone, isopentane, itinerancy, kenoticism, keratinize, keyserlick, kiteflying, knuclesome, lacustrian, landlouper, laryngitic, lattermath, laymanship, legislator, lengthsome, leucophore, lighterful, limnimeter, limnorioid, literalism, magnetizer, malandrous, massedness, masterhood, masterling, matronlike, mesmerizee, meteorital, metrically, microgyria, micrologue, microtomic, mimetesite, minimistic, misapplier, misnarrate, moderately, mollescent, monaxonial, monocormic, monolithic, monoptical, morbidness, mordacious, mosandrite, mumblement, murasakite, musicalize, mydriatine, nautically, neopallium, nettlefish, nitroamine, nociceptor, nonabjurer, nonanalogy, noneternal, nonfertile, nonjoinder, nonprofane, nonspeaker, nontabular, nunciative, nyctalopic, octodactyl, oestradiol, oleaginous, ommatidium, oncosphere, opilionine, opinionate, orchestric, orseilline, osmotactic, othergates, outfreeman, outgeneral, overbarren, overhatted, overplease, oxaluramid, Pachytylus, pantherish, papistlike, paralogist, paraphrast, partialism, pauperitic, pearliness, pectoralis, pediferous, penetrably, pericytial, periocular, petitionee, petronella, phaenology, phaeophyll, phaeospore, phagocyter, phlogistic, phonograph, phonophile, phosgenite, photophane, piacularly, piercingly, pilferment, pitcherful, plankbuilt, planterdom, ploddingly, poetically, polycarpic, polyclinic, polyplegia, postgenial, powderlike, praehallux, prebaptize, precanvass, precognize, predeprive, predevelop, prepainful, presecular, presidency, proctorage, prodefault, proflavine, proleaguer, proromance, protandric, proverbial, pseudaxine, pseudocarp, pyrogallic, quadripole, quaffingly, rattlepate, reaccustom, reasonedly, rebellious, recidivist, recivilize, recordless, rediscover, redisperse, refreshful, regionally, reillumine, reorganize, reprobater, resanction, resignedly, resistible, resultance, retardment, retrocolic, rhegmatype, rheostatic, rhizomelic, roughdraft, saltatoric, samiresite, sanctioner, santoninic, sauterelle, scanningly, scathingly, scepterdom, schizocarp, schoolgirl, schoolward, sciolistic, scotomatic, Scottishly, screenplay, scrummager, scutellate, scyllaroid, semihumbug, semilatent, semiliquid, Semionotus, separation, shapesmith, shearwater, shiverweed, shopkeeper, shovelweed, shudderful, sinoatrial, siphonlike, siroccoish, smellfungi, snakeberry, soddenness, solidarize, solitarian, spangolite, spatialize, speakeress, spindleful, spiracular, spirochete, squadroned, squarelike, stepfather, stercorean, stomachful, streamling, stridelegs, stuffender, subareolet, subjection, sublingual, subnascent, subspecies, subsulfide, suffection, sulphamine, sulphoamid, Sumerology, supralocal, surcharger, swindledom, tabularium, tachymeter, tallywalka, tambourine, tarsonemid, tasselfish, taurocolla, technetium, tegumental, teleometer, telephoner, tendersome, tessellate, tetrammine, thelytocia, theosophic, thereright, thereunder, thermogram, thiefproof, thriftlike, thymacetin, tidingless, Tomopteris, topgallant, trachodont, tradership, trepanning, trihemimer, tristichic, trisylabic, udomograph, ulceration, umbiliform, unambition, unannulled, unbaptized, unbewrayed, unbodylike, uncapsized, uncensored, uncloseted, uncognized, unconcrete, unconjugal, uncreative, uncrippled, undeprived, underbelly, underbound, underlevel, underlight, underpitch, undiscreet, undovelike, unexacting, unexpelled, unfaithful, unfettered, unflaunted, unflavored, unfroglike, ungainsome, unherolike, unhuntable, unhymeneal, unimperial, uningested, uninuclear, uninweaved, unknowable, unlessened, unlocalize, unmaidenly, unnarcotic, unpacifist, unparented, unpleasing, unprepared, unpuckered, unreactive, unreigning, unrelented, unsardonic, unsigneted, unsplendid, unstreaked, unsubsided, unsyllabic, untenanted, unthrashed, untumefied, unwastable, unweaponed, urbaneness, vacantness, variolitic, vegetation, verbalizer, verminlike, vestiarian, victimhood, victualing, vigilation, violinlike, viruscidal, vocability, vociferize, volleyball, vulgarlike, waiterhood, wamblingly, warrambool, weakliness, weaselskin, weightedly, whereabout, whiteshank, wholesaler, wizardlike, zoographic, zootechnic\n"
     ]
    }
   ],
   "source": [
    "from collections import defaultdict\n",
    "\n",
    "def onlychars(word):\n",
    "    return ''.join(filter(str.isalpha, word))\n",
    "\n",
    "file = '/usr/share/dict/words'\n",
    "num2word = defaultdict(list)\n",
    "for line in map(str.rstrip, open(file)):\n",
    "    for word in map(onlychars, line.split()):\n",
    "        num = sum(map(ord, word))\n",
    "        num2word[num].append(word)\n",
    "\n",
    "count_per_n = []\n",
    "for n, wordlist in num2word.items():\n",
    "    count_per_n.append((len(wordlist), n))\n",
    "\n",
    "top10 = list(reversed(sorted(count_per_n)))[:10]\n",
    "for (num_of_words, n) in top10:\n",
    "    print('\"{}\" = {}'.format(n, ', '.join(num2word[n])))"
   ]
  },
  {
   "cell_type": "code",
   "execution_count": null,
   "metadata": {
    "collapsed": true
   },
   "outputs": [],
   "source": []
  }
 ],
 "metadata": {
  "kernelspec": {
   "display_name": "Python 3",
   "language": "python",
   "name": "python3"
  },
  "language_info": {
   "codemirror_mode": {
    "name": "ipython",
    "version": 3
   },
   "file_extension": ".py",
   "mimetype": "text/x-python",
   "name": "python",
   "nbconvert_exporter": "python",
   "pygments_lexer": "ipython3",
   "version": "3.6.4"
  }
 },
 "nbformat": 4,
 "nbformat_minor": 2
}
